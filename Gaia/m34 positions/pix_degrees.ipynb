{
 "cells": [
  {
   "cell_type": "code",
   "execution_count": 1,
   "metadata": {},
   "outputs": [
    {
     "data": {
      "text/plain": [
       "'C:\\\\Users\\\\Sebastian\\\\Dropbox\\\\TP\\\\m34 positions'"
      ]
     },
     "execution_count": 1,
     "metadata": {},
     "output_type": "execute_result"
    }
   ],
   "source": [
    "import numpy as np\n",
    "import math\n",
    "import matplotlib.pyplot as plt\n",
    "\n",
    "from scipy.spatial.distance import cdist\n",
    "\n",
    "import os\n",
    "os.getcwd()"
   ]
  },
  {
   "cell_type": "code",
   "execution_count": 2,
   "metadata": {},
   "outputs": [],
   "source": [
    "datadir = os.getcwd()\n",
    "datafile_B = '\\M34_positions_B.txt'\n",
    "datafile_I = '\\M34_positions_I.txt'\n",
    "datafile_R = '\\M34_positions_R.txt'\n",
    "datafile_V = '\\M34_positions_V.txt'"
   ]
  },
  {
   "cell_type": "code",
   "execution_count": 3,
   "metadata": {},
   "outputs": [],
   "source": [
    "x_B, y_B = np.loadtxt(datadir+datafile_B, usecols=(0,1), skiprows=1).T\n",
    "x_I, y_I = np.loadtxt(datadir+datafile_I, usecols=(0,1), skiprows=1).T\n",
    "x_R, y_R = np.loadtxt(datadir+datafile_R, usecols=(0,1), skiprows=1).T\n",
    "x_V, y_V = np.loadtxt(datadir+datafile_V, usecols=(0,1), skiprows=1).T"
   ]
  },
  {
   "cell_type": "code",
   "execution_count": 4,
   "metadata": {},
   "outputs": [],
   "source": [
    "ra_S1 = 40.61360560456992\n",
    "dec_S1 = 42.75804396955602\n",
    "\n",
    "ra_S2 = 40.52669446314544\n",
    "dec_S2 = 42.76575185123858\n",
    "\n",
    "ra_S3 = 40.54210222792657\n",
    "dec_S3 = 42.75310838054109"
   ]
  },
  {
   "cell_type": "code",
   "execution_count": 6,
   "metadata": {},
   "outputs": [
    {
     "data": {
      "image/png": "[encoded data removed]",
      "text/plain": [
       "<Figure size 432x288 with 1 Axes>"
      ]
     },
     "metadata": {
      "needs_background": "light"
     },
     "output_type": "display_data"
    }
   ],
   "source": [
    "n=[1, 2, 3]\n",
    "\n",
    "fig, ax = plt.subplots()\n",
    "\n",
    "ax.scatter(x_B, y_B, c='b')\n",
    "ax.scatter(x_I, y_I, c='darkred')\n",
    "ax.scatter(x_R, y_R, c='r')\n",
    "ax.scatter(x_V, y_V, c='g')\n",
    "\n",
    "for i, txt in enumerate(n):\n",
    "    ax.annotate(txt, (x_B[i], y_B[i]))\n",
    "    \n",
    "ax.set_xlabel('x_pix')\n",
    "ax.set_ylabel('y_pix')\n",
    "\n",
    "plt.show()"
   ]
  },
  {
   "cell_type": "code",
   "execution_count": 23,
   "metadata": {},
   "outputs": [
    {
     "data": {
      "text/plain": [
       "Text(0, 0.5, 'DEC°')"
      ]
     },
     "execution_count": 23,
     "metadata": {},
     "output_type": "execute_result"
    },
    {
     "data": {
      "image/png": "[encoded data removed]",
      "text/plain": [
       "<Figure size 432x288 with 1 Axes>"
      ]
     },
     "metadata": {
      "needs_background": "light"
     },
     "output_type": "display_data"
    }
   ],
   "source": [
    "n=[1, 2, 3]\n",
    "\n",
    "fig, ax = plt.subplots()\n",
    "ax.scatter(ra, dec)\n",
    "\n",
    "for i, txt in enumerate(n):\n",
    "    ax.annotate(txt, (ra[i], dec[i]))\n",
    "    \n",
    "ax.set_xlabel('RA°')\n",
    "ax.set_ylabel('DEC°')"
   ]
  },
  {
   "cell_type": "code",
   "execution_count": null,
   "metadata": {},
   "outputs": [],
   "source": []
  },
  {
   "cell_type": "code",
   "execution_count": null,
   "metadata": {},
   "outputs": [],
   "source": [
    "def distance(x1, x2, y1, y2):\n",
    "    temp = math.sqrt((x1-x2)**2 + (y1-y2)**2)\n",
    "    return temp"
   ]
  },
  {
   "cell_type": "code",
   "execution_count": 30,
   "metadata": {},
   "outputs": [
    {
     "data": {
      "text/plain": [
       "0.08725226612379954"
      ]
     },
     "execution_count": 30,
     "metadata": {},
     "output_type": "execute_result"
    }
   ],
   "source": [
    "distance(ra_S1, ra_S2, dec_S1, dec_S2)"
   ]
  },
  {
   "cell_type": "code",
   "execution_count": 7,
   "metadata": {},
   "outputs": [],
   "source": [
    "ra = np.array([ra_S1, ra_S2, ra_S3])\n",
    "dec = np.array([dec_S1, dec_S2, dec_S3])"
   ]
  },
  {
   "cell_type": "code",
   "execution_count": 26,
   "metadata": {},
   "outputs": [],
   "source": [
    "coords_deg = list(zip(ra, dec))"
   ]
  },
  {
   "cell_type": "code",
   "execution_count": 27,
   "metadata": {},
   "outputs": [],
   "source": [
    "coords_B = list(zip(x_B, y_B))\n",
    "coords_I = list(zip(x_I, y_I))\n",
    "coords_R = list(zip(x_R, y_R))\n",
    "coords_V = list(zip(x_V, y_V))"
   ]
  },
  {
   "cell_type": "code",
   "execution_count": 33,
   "metadata": {
    "scrolled": true
   },
   "outputs": [
    {
     "data": {
      "text/plain": [
       "array([[0.        , 0.08725227, 0.07167352],\n",
       "       [0.08725227, 0.        , 0.0199313 ],\n",
       "       [0.07167352, 0.0199313 , 0.        ]])"
      ]
     },
     "execution_count": 33,
     "metadata": {},
     "output_type": "execute_result"
    }
   ],
   "source": [
    "dist_deg = cdist(coords_deg, coords_deg, 'euclidean')\n",
    "dist_deg"
   ]
  },
  {
   "cell_type": "code",
   "execution_count": 34,
   "metadata": {},
   "outputs": [
    {
     "data": {
      "text/plain": [
       "array([[  0.        , 204.48044844, 198.59602532],\n",
       "       [204.48044844,   0.        , 127.36717165],\n",
       "       [198.59602532, 127.36717165,   0.        ]])"
      ]
     },
     "execution_count": 34,
     "metadata": {},
     "output_type": "execute_result"
    }
   ],
   "source": [
    "dist_B = cdist(coords_B, coords_B, 'euclidean')\n",
    "dist_B"
   ]
  },
  {
   "cell_type": "code",
   "execution_count": 20,
   "metadata": {},
   "outputs": [
    {
     "data": {
      "text/plain": [
       "array([[  0.        , 204.61239144, 198.69390554],\n",
       "       [204.61239144,   0.        , 127.25857785],\n",
       "       [198.69390554, 127.25857785,   0.        ]])"
      ]
     },
     "execution_count": 20,
     "metadata": {},
     "output_type": "execute_result"
    }
   ],
   "source": [
    "cdist(coords_I, coords_I, 'euclidean')"
   ]
  },
  {
   "cell_type": "code",
   "execution_count": 21,
   "metadata": {},
   "outputs": [
    {
     "data": {
      "text/plain": [
       "array([[  0.        , 204.52429154, 198.67982081],\n",
       "       [204.52429154,   0.        , 127.31931515],\n",
       "       [198.67982081, 127.31931515,   0.        ]])"
      ]
     },
     "execution_count": 21,
     "metadata": {},
     "output_type": "execute_result"
    }
   ],
   "source": [
    "cdist(coords_R, coords_R, 'euclidean')"
   ]
  },
  {
   "cell_type": "code",
   "execution_count": 22,
   "metadata": {},
   "outputs": [
    {
     "data": {
      "text/plain": [
       "array([[  0.        , 204.46778659, 198.56102354],\n",
       "       [204.46778659,   0.        , 127.3038671 ],\n",
       "       [198.56102354, 127.3038671 ,   0.        ]])"
      ]
     },
     "execution_count": 22,
     "metadata": {},
     "output_type": "execute_result"
    }
   ],
   "source": [
    "cdist(coords_V, coords_V, 'euclidean')"
   ]
  },
  {
   "cell_type": "code",
   "execution_count": 40,
   "metadata": {},
   "outputs": [
    {
     "name": "stdout",
     "output_type": "stream",
     "text": [
      "0.0004267022436191495\n",
      "0.00036090106025100363\n",
      "0.00015648691814790778\n"
     ]
    }
   ],
   "source": [
    "#considering the B filter:\n",
    "#1 degree = ? pixel\n",
    "\n",
    "# star 1 and 2 \n",
    "ratio12 = dist_deg[0][1]/dist_B[0][1]\n",
    "print(ratio12)\n",
    "\n",
    "#star 1 and 3\n",
    "ratio13 = dist_deg[0][2]/dist_B[0][2]\n",
    "print(ratio13)\n",
    "\n",
    "#star 2 and 3\n",
    "ratio23 = dist_deg[1][2]/dist_B[1][2]\n",
    "print(ratio23)"
   ]
  },
  {
   "cell_type": "code",
   "execution_count": null,
   "metadata": {},
   "outputs": [],
   "source": []
  }
 ],
 "metadata": {
  "kernelspec": {
   "display_name": "Python 3",
   "language": "python",
   "name": "python3"
  },
  "language_info": {
   "codemirror_mode": {
    "name": "ipython",
    "version": 3
   },
   "file_extension": ".py",
   "mimetype": "text/x-python",
   "name": "python",
   "nbconvert_exporter": "python",
   "pygments_lexer": "ipython3",
   "version": "3.6.6"
  }
 },
 "nbformat": 4,
 "nbformat_minor": 2
}
